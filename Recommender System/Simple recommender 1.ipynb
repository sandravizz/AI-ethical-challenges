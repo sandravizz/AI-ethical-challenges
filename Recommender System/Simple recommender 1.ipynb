{
 "cells": [
  {
   "cell_type": "markdown",
   "id": "4eb6376a",
   "metadata": {},
   "source": [
    "# Simple recommender system 1\n",
    "\n",
    "In the example we will recommend to Data Science users' in which topic they might be interested next. \n",
    "\n",
    "\n",
    "Objective: We want to create a general recommender based on what's popular. \n",
    "The example has been taken from the book [Data Science from scratch](https://github.com/joelgrus/data-science-from-scratch)"
   ]
  },
  {
   "cell_type": "markdown",
   "id": "855dd325",
   "metadata": {},
   "source": [
    "## Libraries"
   ]
  },
  {
   "cell_type": "code",
   "execution_count": 12,
   "id": "8d6bc8c1",
   "metadata": {},
   "outputs": [],
   "source": [
    "from collections import Counter"
   ]
  },
  {
   "cell_type": "markdown",
   "id": "7268a318",
   "metadata": {},
   "source": [
    "## Data "
   ]
  },
  {
   "cell_type": "code",
   "execution_count": 13,
   "id": "e94148c5",
   "metadata": {},
   "outputs": [],
   "source": [
    "users_interests = [\n",
    "    [\"Hadoop\", \"Big Data\", \"HBase\", \"Java\", \"Spark\", \"Storm\", \"Cassandra\"],\n",
    "    [\"NoSQL\", \"MongoDB\", \"Cassandra\", \"HBase\", \"Postgres\"],\n",
    "    [\"Python\", \"scikit-learn\", \"scipy\", \"numpy\", \"statsmodels\", \"pandas\"],\n",
    "    [\"R\", \"Python\", \"statistics\", \"regression\", \"probability\"],\n",
    "    [\"machine learning\", \"regression\", \"decision trees\", \"libsvm\"],\n",
    "    [\"Python\", \"R\", \"Java\", \"C++\", \"Haskell\", \"programming languages\"],\n",
    "    [\"statistics\", \"probability\", \"mathematics\", \"theory\"],\n",
    "    [\"machine learning\", \"scikit-learn\", \"Mahout\", \"neural networks\"],\n",
    "    [\"neural networks\", \"deep learning\", \"Big Data\", \"artificial intelligence\"],\n",
    "    [\"Hadoop\", \"Java\", \"MapReduce\", \"Big Data\"],\n",
    "    [\"statistics\", \"R\", \"statsmodels\"],\n",
    "    [\"C++\", \"deep learning\", \"artificial intelligence\", \"probability\"],\n",
    "    [\"pandas\", \"R\", \"Python\"],\n",
    "    [\"databases\", \"HBase\", \"Postgres\", \"MySQL\", \"MongoDB\"],\n",
    "    [\"libsvm\", \"regression\", \"support vector machines\"]\n",
    "]"
   ]
  },
  {
   "cell_type": "markdown",
   "id": "2060df4b",
   "metadata": {},
   "source": [
    "## Most popular\n",
    "\n",
    "One easy way is to just recommend what is popular. In this case we can just recommend to user the most popular interest, he/she doesn't have yet. The first step is to count the mentions per interest."
   ]
  },
  {
   "cell_type": "code",
   "execution_count": 14,
   "id": "0717968d",
   "metadata": {},
   "outputs": [],
   "source": [
    "popular_interests = Counter(interest\n",
    "                            for user_interests in users_interests\n",
    "                            for interest in user_interests).most_common()"
   ]
  },
  {
   "cell_type": "code",
   "execution_count": 15,
   "id": "99c76947",
   "metadata": {},
   "outputs": [
    {
     "name": "stdout",
     "output_type": "stream",
     "text": [
      "[('Python', 4), ('R', 4), ('Big Data', 3), ('HBase', 3), ('Java', 3), ('statistics', 3), ('regression', 3), ('probability', 3), ('Hadoop', 2), ('Cassandra', 2), ('MongoDB', 2), ('Postgres', 2), ('scikit-learn', 2), ('statsmodels', 2), ('pandas', 2), ('machine learning', 2), ('libsvm', 2), ('C++', 2), ('neural networks', 2), ('deep learning', 2), ('artificial intelligence', 2), ('Spark', 1), ('Storm', 1), ('NoSQL', 1), ('scipy', 1), ('numpy', 1), ('decision trees', 1), ('Haskell', 1), ('programming languages', 1), ('mathematics', 1), ('theory', 1), ('Mahout', 1), ('MapReduce', 1), ('databases', 1), ('MySQL', 1), ('support vector machines', 1)]\n"
     ]
    }
   ],
   "source": [
    "print (popular_interests)"
   ]
  },
  {
   "cell_type": "markdown",
   "id": "9eba72d3",
   "metadata": {},
   "source": [
    "## Recommender function\n",
    "\n",
    "Now we need to define a function which will give back 5 suggestions which are popular and not in the interest of the user yet. "
   ]
  },
  {
   "cell_type": "code",
   "execution_count": 16,
   "id": "7ecf209d",
   "metadata": {},
   "outputs": [],
   "source": [
    "def most_popular_new_interests(user_interests, max_results=5):\n",
    "    suggestions = [(interest, frequency) \n",
    "                   for interest, frequency in popular_interests\n",
    "                   if interest not in user_interests]\n",
    "    return suggestions[:max_results]"
   ]
  },
  {
   "cell_type": "markdown",
   "id": "b737f275",
   "metadata": {},
   "source": [
    "## Evaluation\n",
    "\n",
    "Let do a test with a imaginary user"
   ]
  },
  {
   "cell_type": "code",
   "execution_count": 17,
   "id": "d1d47357",
   "metadata": {},
   "outputs": [
    {
     "name": "stdout",
     "output_type": "stream",
     "text": [
      "[('Python', 4), ('R', 4), ('Big Data', 3), ('Java', 3), ('statistics', 3)]\n"
     ]
    }
   ],
   "source": [
    "print (most_popular_new_interests([\"NoSQL\", \"MongoDB\", \"Cassandra\", \"HBase\", \"Postgres\"]))"
   ]
  },
  {
   "cell_type": "code",
   "execution_count": 18,
   "id": "97df9b1d",
   "metadata": {},
   "outputs": [
    {
     "name": "stdout",
     "output_type": "stream",
     "text": [
      "[('Big Data', 3), ('HBase', 3), ('Java', 3), ('Hadoop', 2), ('Cassandra', 2)]\n"
     ]
    }
   ],
   "source": [
    "print (most_popular_new_interests([\"R\", \"Python\", \"statistics\", \"regression\", \"probability\"]))"
   ]
  }
 ],
 "metadata": {
  "kernelspec": {
   "display_name": "Python 3 (ipykernel)",
   "language": "python",
   "name": "python3"
  },
  "language_info": {
   "codemirror_mode": {
    "name": "ipython",
    "version": 3
   },
   "file_extension": ".py",
   "mimetype": "text/x-python",
   "name": "python",
   "nbconvert_exporter": "python",
   "pygments_lexer": "ipython3",
   "version": "3.9.12"
  }
 },
 "nbformat": 4,
 "nbformat_minor": 5
}
